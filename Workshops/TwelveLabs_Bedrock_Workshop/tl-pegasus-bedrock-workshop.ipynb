{
 "cells": [
  {
   "cell_type": "markdown",
   "id": "adc215db",
   "metadata": {},
   "source": [
    "# TwelveLabs Pegasus on Amazon Bedrock Workshop"
   ]
  },
  {
   "cell_type": "markdown",
   "id": "d30d11dc",
   "metadata": {},
   "source": [
    "TwelveLabs is a leading provider of multimodal AI models specializing in video understanding and analysis. TwelveLabs' advanced models enable sophisticated video search, analysis, and content generation capabilities through state-of-the-art computer vision and natural language processing technologies. Amazon Bedrock now offers two TwelveLabs models: TwelveLabs Pegasus 1.2, which provides comprehensive video understanding and analysis, and TwelveLabs Marengo Embed 2.7, which generates high-quality embeddings for video, text, audio, and image content. These models empower developers to build applications that can intelligently process, analyze, and derive insights from video data at scale."
   ]
  },
  {
   "cell_type": "markdown",
   "id": "02029b0d",
   "metadata": {},
   "source": [
    "## Part 0: Setup"
   ]
  },
  {
   "cell_type": "markdown",
   "id": "8470dc9f",
   "metadata": {},
   "source": [
    "### Dependencies"
   ]
  },
  {
   "cell_type": "code",
   "execution_count": 1,
   "id": "02afff0a",
   "metadata": {},
   "outputs": [
    {
     "name": "stdout",
     "output_type": "stream",
     "text": [
      "Note: you may need to restart the kernel to use updated packages.\n"
     ]
    }
   ],
   "source": [
    "%pip install -r requirements.txt -Uq"
   ]
  },
  {
   "cell_type": "code",
   "execution_count": 2,
   "id": "d4264c5e",
   "metadata": {},
   "outputs": [],
   "source": [
    "import boto3, botocore\n",
    "import json\n",
    "import re\n",
    "import uuid\n",
    "import time\n",
    "from IPython.display import clear_output, HTML, display, Image\n",
    "from opensearchpy import AWSV4SignerAuth, OpenSearch, RequestsHttpConnection"
   ]
  },
  {
   "cell_type": "markdown",
   "id": "112ab828",
   "metadata": {},
   "source": [
    "### Configure boto3"
   ]
  },
  {
   "cell_type": "code",
   "execution_count": 3,
   "id": "fda39e81",
   "metadata": {},
   "outputs": [],
   "source": [
    "AWS_REGION = \"us-west-2\" # TODO: Replace with your AWS region"
   ]
  },
  {
   "cell_type": "code",
   "execution_count": 7,
   "id": "a2cb9c39",
   "metadata": {},
   "outputs": [],
   "source": [
    "# Initialize AWS session\n",
    "session = boto3.Session(profile_name='tl-dev-oregon') # TODO: Replace with your AWS profile\n",
    "\n",
    "# Initialize AWS clients\n",
    "bedrock_client = session.client('bedrock-runtime', region_name=AWS_REGION)\n",
    "s3_client = session.client('s3')"
   ]
  },
  {
   "cell_type": "markdown",
   "id": "1f14f0eb",
   "metadata": {},
   "source": [
    "### Configure S3"
   ]
  },
  {
   "cell_type": "code",
   "execution_count": 8,
   "id": "cc257a83",
   "metadata": {},
   "outputs": [],
   "source": [
    "# S3 Configuration\n",
    "S3_BUCKET_NAME = \"tl-bedrock-samples-us-west-2\" # TODO: Replace with your S3 bucket name\n",
    "S3_VIDEOS_PATH = \"videos\"\n",
    "\n",
    "# Validate S3 bucket name\n",
    "if S3_BUCKET_NAME == \"<YOUR_S3_BUCKET_NAME>\" or S3_BUCKET_NAME == \"\":\n",
    "    raise ValueError(\"Please replace <YOUR_S3_BUCKET_NAME> with your S3 bucket name\")"
   ]
  },
  {
   "cell_type": "markdown",
   "id": "ecb88e5b",
   "metadata": {},
   "source": [
    "#### Set up sample dataset to S3 bucket"
   ]
  },
  {
   "cell_type": "code",
   "execution_count": 9,
   "id": "00df9bd4",
   "metadata": {},
   "outputs": [
    {
     "name": "stdout",
     "output_type": "stream",
     "text": [
      "AWS Account ID: 026090552520\n",
      "S3 Bucket: tl-bedrock-samples-us-west-2\n",
      "S3 Videos Path: videos\n",
      "✅ Successfully connected to S3 bucket: tl-bedrock-samples-us-west-2\n"
     ]
    }
   ],
   "source": [
    "# AWS Account ID for S3 bucket ownership\n",
    "aws_account_id = session.client('sts').get_caller_identity()[\"Account\"]\n",
    "\n",
    "print(f\"AWS Account ID: {aws_account_id}\")\n",
    "print(f\"S3 Bucket: {S3_BUCKET_NAME}\")\n",
    "print(f\"S3 Videos Path: {S3_VIDEOS_PATH}\")\n",
    "\n",
    "# Verify bucket access\n",
    "try:\n",
    "    s3_client.head_bucket(Bucket=S3_BUCKET_NAME)\n",
    "    print(f\"✅ Successfully connected to S3 bucket: {S3_BUCKET_NAME}\")\n",
    "except Exception as e:\n",
    "    print(f\"❌ Error accessing S3 bucket: {e}\")\n",
    "    print(\"Please ensure the bucket exists and you have proper permissions.\")"
   ]
  },
  {
   "cell_type": "markdown",
   "id": "e34a825f",
   "metadata": {},
   "source": [
    "#### Netflix Open Content\n",
    "\n",
    "The [Netflix Open Content](https://opencontent.netflix.com/) is an open source content available under the [Creative Commons Attribution 4.0 International Public License](https://www.google.com/url?q=https%3A%2F%2Fcreativecommons.org%2Flicenses%2Fby%2F4.0%2Flegalcode&sa=D&sntz=1&usg=AOvVaw3DDX6ldzWtAO5wOs5KkByf).\n",
    "\n",
    "The assets are available for download at: http://download.opencontent.netflix.com/\n",
    "\n",
    "We will be utilizing a subset of the videos for demonstrating how to utilize the TwelveLabs models on Amazon Bedrock."
   ]
  },
  {
   "cell_type": "code",
   "execution_count": 10,
   "id": "eec443cc",
   "metadata": {},
   "outputs": [],
   "source": [
    "# Sample video S3 URIs\n",
    "sample_videos = [\n",
    "    # 's3://download.opencontent.netflix.com/TechblogAssets/CosmosLaundromat/encodes/CosmosLaundromat_2048x858_24fps_SDR.mp4',\n",
    "    # 's3://download.opencontent.netflix.com/TechblogAssets/Meridian/encodes/Meridian_3840x2160_5994fps_SDR.mp4',\n",
    "    's3://download.opencontent.netflix.com/TechblogAssets/Sparks/encodes/Sparks_4096x2160_5994fps_SDR.mp4'\n",
    "]"
   ]
  },
  {
   "cell_type": "code",
   "execution_count": 11,
   "id": "831a277e",
   "metadata": {},
   "outputs": [],
   "source": [
    "# Unsigned S3 client\n",
    "public_s3_client = boto3.client('s3', config=botocore.client.Config(signature_version=botocore.UNSIGNED))"
   ]
  },
  {
   "cell_type": "code",
   "execution_count": 12,
   "id": "b64a15aa",
   "metadata": {},
   "outputs": [],
   "source": [
    "def parse_s3_uri(s3_uri: str) -> tuple[str, str]:\n",
    "    \"\"\"\n",
    "    Parses an S3 URI like s3://bucket-name/path/to/object and returns (bucket, key)\n",
    "\n",
    "    Args:\n",
    "        s3_uri (str): The S3 URI to parse\n",
    "        \n",
    "    Returns:\n",
    "        tuple[str, str]: The bucket and key\n",
    "    \"\"\"\n",
    "    pattern = r'^s3://([^/]+)/(.+)$'\n",
    "    match = re.match(pattern, s3_uri)\n",
    "    if not match:\n",
    "        raise ValueError(f\"Invalid S3 URI format: {s3_uri}\")\n",
    "    return match.group(1), match.group(2)\n",
    "\n",
    "\n",
    "def copy_public_s3_object_to_private_bucket(public_s3_uri: str, dest_bucket: str, dest_key: str, aws_profile: str = 'default') -> None:\n",
    "    \"\"\"\n",
    "    Copies a public S3 object to a private bucket\n",
    "\n",
    "    Args:\n",
    "        public_s3_uri (str): The S3 URI of the public object to copy\n",
    "        dest_bucket (str): The name of the private bucket to copy to\n",
    "        dest_key (str): The key of the object to copy to\n",
    "        aws_profile (str): The AWS profile to use for the authenticated client\n",
    "    \"\"\"\n",
    "\n",
    "    # Parse source bucket and key\n",
    "    source_bucket, source_key = parse_s3_uri(public_s3_uri)\n",
    "\n",
    "    # Anonymous client to read public object\n",
    "    anon_s3 = boto3.client('s3', config=botocore.client.Config(signature_version=botocore.UNSIGNED))\n",
    "\n",
    "    print(f\"Downloading from {public_s3_uri}...\")\n",
    "    response = anon_s3.get_object(Bucket=source_bucket, Key=source_key)\n",
    "    data = response['Body'].read()\n",
    "\n",
    "    print(f\"Uploading to s3://{dest_bucket}/{dest_key} ...\")\n",
    "    s3_client.put_object(Bucket=dest_bucket, Key=dest_key, Body=data)\n",
    "\n",
    "    print(\"✅ Copy completed successfully!\")"
   ]
  },
  {
   "cell_type": "code",
   "execution_count": null,
   "id": "393ff829",
   "metadata": {},
   "outputs": [],
   "source": [
    "# Copy videos to the S3 bucket\n",
    "for video_uri in sample_videos:\n",
    "    # Extract the filename from the S3 key\n",
    "    _, src_key = parse_s3_uri(video_uri)\n",
    "    filename = src_key.split(\"/\")[-1]\n",
    "    dest_key = f\"{S3_VIDEOS_PATH}/{filename}\"\n",
    "    copy_public_s3_object_to_private_bucket(\n",
    "        public_s3_uri=video_uri,\n",
    "        dest_bucket=S3_BUCKET_NAME,\n",
    "        dest_key=dest_key\n",
    "    )"
   ]
  },
  {
   "cell_type": "markdown",
   "id": "1407a85d",
   "metadata": {},
   "source": [
    "## Part 1: Using Pegasus on Bedrock"
   ]
  },
  {
   "cell_type": "code",
   "execution_count": 37,
   "id": "15829c81",
   "metadata": {},
   "outputs": [],
   "source": [
    "MODEL_ID_REGIONS = {\n",
    "    \"us-west-2\": \"us.twelvelabs.pegasus-1-2-v1:0\",\n",
    "    \"eu-west-1\": \"eu.twelvelabs.pegasus-1-2-v1:0\"\n",
    "}"
   ]
  },
  {
   "cell_type": "code",
   "execution_count": 39,
   "id": "59273f80",
   "metadata": {},
   "outputs": [],
   "source": [
    "try:\n",
    "    MODEL_ID = MODEL_ID_REGIONS[AWS_REGION]\n",
    "except KeyError:\n",
    "    raise ValueError(f\"Pegasus 1.2 is not supported for {AWS_REGION}\")"
   ]
  },
  {
   "cell_type": "code",
   "execution_count": 27,
   "id": "11fd844a",
   "metadata": {},
   "outputs": [
    {
     "name": "stdout",
     "output_type": "stream",
     "text": [
      "videos/Sparks_4096x2160_5994fps_SDR.mp4\n",
      "\n",
      "Total objects found: 1\n"
     ]
    }
   ],
   "source": [
    "s3_response = s3_client.list_objects_v2(Bucket=S3_BUCKET_NAME, Prefix=S3_VIDEOS_PATH)\n",
    "\n",
    "# List all object keys\n",
    "if 'Contents' in s3_response:\n",
    "    object_keys = [obj['Key'] for obj in s3_response['Contents']]\n",
    "    for key in object_keys:\n",
    "        print(key)\n",
    "    print(f\"\\nTotal objects found: {len(object_keys)}\")\n",
    "else:\n",
    "    print(\"No objects found in the specified bucket and prefix.\")\n"
   ]
  },
  {
   "cell_type": "code",
   "execution_count": 28,
   "id": "f157be03",
   "metadata": {},
   "outputs": [],
   "source": [
    "video_s3_key = \"videos/Sparks_4096x2160_5994fps_SDR.mp4\" # TODO: Replace with your video S3 key"
   ]
  },
  {
   "cell_type": "markdown",
   "id": "1f9b8142",
   "metadata": {},
   "source": [
    "### Part 1a: Analyze with Pegasus on Bedrock"
   ]
  },
  {
   "cell_type": "code",
   "execution_count": null,
   "id": "86dfcbc0",
   "metadata": {},
   "outputs": [
    {
     "name": "stdout",
     "output_type": "stream",
     "text": [
      "The video showcases various activities at a construction site, beginning with a time-lapse of a sunrise over a forested area. It then follows a worker in safety gear as he exits a lift cage, adjusts his harness, and walks towards the edge of a building's roof. The worker engages in welding tasks, meticulously joining sections of beams while sparks fly. The video also captures other workers performing their duties, such as drinking water, discussing something outside the frame, sweeping debris, and operating machinery. Throughout the video, the construction site's environment is highlighted, including its structural elements and the natural backdrop of trees and mountains.\n"
     ]
    }
   ],
   "source": [
    "prompt = \"What is the video about?\"\n",
    "\n",
    "request_body = {\n",
    "    \"inputPrompt\": prompt,\n",
    "    \"mediaSource\": {\n",
    "        \"s3Location\": {\n",
    "            \"uri\": f\"s3://{S3_BUCKET_NAME}/{video_s3_key}\",\n",
    "            \"bucketOwner\": aws_account_id\n",
    "        }\n",
    "    },\n",
    "    \"temperature\": 0\n",
    "}\n",
    "\n",
    "response = bedrock_client.invoke_model(\n",
    "    modelId=MODEL_ID,\n",
    "    body=json.dumps(request_body),\n",
    "    contentType=\"application/json\",\n",
    "    accept=\"application/json\"\n",
    ")\n",
    "\n",
    "response_body = json.loads(response.get(\"body\").read())\n",
    "print(response_body[\"message\"])"
   ]
  },
  {
   "cell_type": "markdown",
   "id": "71b543cc",
   "metadata": {},
   "source": [
    "### Part 1b: Pegasus streaming response"
   ]
  },
  {
   "cell_type": "code",
   "execution_count": 54,
   "id": "cdb9d1fb",
   "metadata": {},
   "outputs": [
    {
     "name": "stdout",
     "output_type": "stream",
     "text": [
      "The video showcases a day at a construction site, beginning with a time-lapse of a sunrise over a forested landscape. A worker in safety gear exits a lift cage and adjusts his harness before walking towards the edge of a building's roof. He welds beams together, with close-ups capturing the sparks and intense light from the welding torch. Inside the building, the construction progresses with workers conversing near scaffolding and another sweeping debris. The scene transitions to a dirt road with water spraying as vehicles drive through, and concludes with silhouettes of people walking at night. Throughout the video, there are occasional unclear dialogues that do not significantly contribute to the overall narrative.\n"
     ]
    }
   ],
   "source": [
    "prompt = \"Summarize the video\"\n",
    "\n",
    "request_body = {\n",
    "    \"inputPrompt\": prompt,\n",
    "    \"mediaSource\": {\n",
    "        \"s3Location\": {\n",
    "            \"uri\": f\"s3://{S3_BUCKET_NAME}/{video_s3_key}\",\n",
    "            \"bucketOwner\": aws_account_id\n",
    "        }\n",
    "    },\n",
    "    \"temperature\": 0\n",
    "}\n",
    "\n",
    "streaming_response = bedrock_client.invoke_model_with_response_stream(\n",
    "    modelId=MODEL_ID,\n",
    "    body=json.dumps(request_body),\n",
    "    contentType=\"application/json\",\n",
    "    accept=\"application/json\"\n",
    ")\n",
    "\n",
    "# Extract and print the response text in real-time.\n",
    "message = \"\"\n",
    "for event in streaming_response[\"body\"]:\n",
    "    chunk = json.loads(event[\"chunk\"][\"bytes\"])\n",
    "    print(chunk[\"message\"], end=\"\")\n",
    "\n",
    "print(message)\n",
    "\n"
   ]
  },
  {
   "cell_type": "markdown",
   "id": "5595edbb",
   "metadata": {},
   "source": [
    "## Part 2: Video Analysis with Pegasus"
   ]
  },
  {
   "cell_type": "markdown",
   "id": "7c5ffe0e",
   "metadata": {},
   "source": [
    "### Part 2a: Summaries, hashtags, and highlights"
   ]
  },
  {
   "cell_type": "markdown",
   "id": "d813bb33",
   "metadata": {},
   "source": [
    "### Part 2b: Structured outputs"
   ]
  }
 ],
 "metadata": {
  "kernelspec": {
   "display_name": "tl",
   "language": "python",
   "name": "python3"
  },
  "language_info": {
   "codemirror_mode": {
    "name": "ipython",
    "version": 3
   },
   "file_extension": ".py",
   "mimetype": "text/x-python",
   "name": "python",
   "nbconvert_exporter": "python",
   "pygments_lexer": "ipython3",
   "version": "3.12.2"
  }
 },
 "nbformat": 4,
 "nbformat_minor": 5
}
