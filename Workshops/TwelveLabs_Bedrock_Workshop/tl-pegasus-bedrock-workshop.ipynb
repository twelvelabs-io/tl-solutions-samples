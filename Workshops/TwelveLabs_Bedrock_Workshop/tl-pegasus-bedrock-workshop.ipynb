{
 "cells": [
  {
   "cell_type": "markdown",
   "id": "adc215db",
   "metadata": {},
   "source": [
    "# TwelveLabs Pegasus on Amazon Bedrock Workshop"
   ]
  },
  {
   "cell_type": "markdown",
   "id": "d30d11dc",
   "metadata": {},
   "source": [
    "TwelveLabs is a leading provider of multimodal AI models specializing in video understanding and analysis. TwelveLabs' advanced models enable sophisticated video search, analysis, and content generation capabilities through state-of-the-art computer vision and natural language processing technologies. Amazon Bedrock now offers two TwelveLabs models: TwelveLabs Pegasus 1.2, which provides comprehensive video understanding and analysis, and TwelveLabs Marengo Embed 2.7, which generates high-quality embeddings for video, text, audio, and image content. These models empower developers to build applications that can intelligently process, analyze, and derive insights from video data at scale."
   ]
  },
  {
   "cell_type": "markdown",
   "id": "c21be936",
   "metadata": {},
   "source": [
    "### TwelveLabs Video Understanding Models\n",
    "TwelveLabs’ video understanding models consist of a family of deep neural networks built on our multimodal foundation model for video understanding that you can use for the following downstream tasks:\n",
    "- Search using natural language queries\n",
    "- Analyze videos to generate text\n",
    "\n",
    "Videos contain multiple types of information, including visuals, sounds, spoken words, and texts. The human brain combines all types of information and their relations with each other to comprehend the overall meaning of a scene. For example, you’re watching a video of a person jumping and clapping, both visual cues, but the sound is muted. You might realize they’re happy, but you can’t understand why they’re happy without the sound. However, if the sound is unmuted, you could realize they’re cheering for a soccer team that scored a goal.\n",
    "\n",
    "Thus, an application that analyzes a single type of information can’t provide a comprehensive understanding of a video. TwelveLabs’ video understanding models, however, analyze and combine information from all the modalities to accurately interpret the meaning of a video holistically, similar to how humans watch, listen, and read simultaneously to understand videos.\n",
    "\n",
    "Our video understanding models have the ability to identify, analyze, and interpret a variety of elements, including but not limited to the following:\n",
    "| Element | Modality | Example |\n",
    "|---------|----------|---------|\n",
    "| People, including famous individuals | Visual | Michael Jordan, Steve Jobs |\n",
    "| Actions | Visual | Running, dancing, kickboxing |\n",
    "| Objects | Visual | Cars, computers, stadiums |\n",
    "| Animals or pets | Visual | Monkeys, cats, horses |\n",
    "| Nature | Visual | Mountains, lakes, forests |\n",
    "| Text displayed on the screen (OCR) | Visual | License plates, handwritten words, number on a player's jersey |\n",
    "| Brand logos | Visual | Nike, Starbucks, Mercedes |\n",
    "| Shot techniques and effects | Visual | Aerial shots, slow motion, time-lapse |\n",
    "| Counting objects | Visual | Number of people in a crowd, items on a shelf, vehicles in traffic |\n",
    "| Sounds | Audio | Chirping (birds), applause, fireworks popping or exploding |\n",
    "| Human speech | Audio | \"Good morning. How may I help you?\" |\n",
    "| Music | Audio | Ominous music, whistling, lyrics |\n",
    "\n",
    "### Modalities\n",
    "Modalities represent the types of information that the models process and analyze in a video. These modalities are central to both indexing and searching video content.\n",
    "\n",
    "The models support the following modalities: \n",
    "\n",
    "- **Visual**: Analyzes visual content in a video, including actions, objects, events, text (through Optical Character Recognition, or OCR), and brand logos.\n",
    "- **Audio**: Analyzes audio content in a video, including ambient sounds, music, and human speech."
   ]
  },
  {
   "cell_type": "markdown",
   "id": "02029b0d",
   "metadata": {},
   "source": [
    "## Part 0: Setup"
   ]
  },
  {
   "cell_type": "markdown",
   "id": "8470dc9f",
   "metadata": {},
   "source": [
    "### Dependencies"
   ]
  },
  {
   "cell_type": "code",
   "execution_count": null,
   "id": "02afff0a",
   "metadata": {},
   "outputs": [],
   "source": [
    "%pip install -r requirements.txt -Uq"
   ]
  },
  {
   "cell_type": "code",
   "execution_count": null,
   "id": "d4264c5e",
   "metadata": {},
   "outputs": [],
   "source": [
    "import boto3, botocore\n",
    "import json\n",
    "import re\n",
    "from IPython.display import HTML, display"
   ]
  },
  {
   "cell_type": "markdown",
   "id": "112ab828",
   "metadata": {},
   "source": [
    "### Configure boto3"
   ]
  },
  {
   "cell_type": "code",
   "execution_count": null,
   "id": "fda39e81",
   "metadata": {},
   "outputs": [],
   "source": [
    "AWS_REGION = \"us-west-2\" # TODO: Replace with your AWS region"
   ]
  },
  {
   "cell_type": "code",
   "execution_count": null,
   "id": "a2cb9c39",
   "metadata": {},
   "outputs": [],
   "source": [
    "# Initialize AWS session\n",
    "session = boto3.Session(profile_name='default') # TODO: Replace with your AWS profile\n",
    "\n",
    "# Initialize AWS clients\n",
    "bedrock_client = session.client('bedrock-runtime', region_name=AWS_REGION)\n",
    "s3_client = session.client('s3')"
   ]
  },
  {
   "cell_type": "markdown",
   "id": "1f14f0eb",
   "metadata": {},
   "source": [
    "### Configure S3"
   ]
  },
  {
   "cell_type": "code",
   "execution_count": null,
   "id": "cc257a83",
   "metadata": {},
   "outputs": [],
   "source": [
    "# S3 Configuration\n",
    "S3_BUCKET_NAME = \"<YOUR_S3_BUCKET_NAME>\" # TODO: Replace with your S3 bucket name\n",
    "S3_VIDEOS_PATH = \"videos\"\n",
    "\n",
    "# Validate S3 bucket name\n",
    "if S3_BUCKET_NAME == \"<YOUR_S3_BUCKET_NAME>\" or S3_BUCKET_NAME == \"\":\n",
    "    raise ValueError(\"Please replace <YOUR_S3_BUCKET_NAME> with your S3 bucket name\")"
   ]
  },
  {
   "cell_type": "markdown",
   "id": "ecb88e5b",
   "metadata": {},
   "source": [
    "#### Set up sample dataset to S3 bucket"
   ]
  },
  {
   "cell_type": "code",
   "execution_count": null,
   "id": "00df9bd4",
   "metadata": {},
   "outputs": [],
   "source": [
    "# AWS Account ID for S3 bucket ownership\n",
    "aws_account_id = session.client('sts').get_caller_identity()[\"Account\"]\n",
    "\n",
    "print(f\"AWS Account ID: {aws_account_id}\")\n",
    "print(f\"S3 Bucket: {S3_BUCKET_NAME}\")\n",
    "print(f\"S3 Videos Path: {S3_VIDEOS_PATH}\")\n",
    "\n",
    "# Verify bucket access\n",
    "try:\n",
    "    s3_client.head_bucket(Bucket=S3_BUCKET_NAME)\n",
    "    print(f\"✅ Successfully connected to S3 bucket: {S3_BUCKET_NAME}\")\n",
    "except Exception as e:\n",
    "    print(f\"❌ Error accessing S3 bucket: {e}\")\n",
    "    print(\"Please ensure the bucket exists and you have proper permissions.\")"
   ]
  },
  {
   "cell_type": "markdown",
   "id": "e34a825f",
   "metadata": {},
   "source": [
    "#### Netflix Open Content\n",
    "\n",
    "The [Netflix Open Content](https://opencontent.netflix.com/) is an open source content available under the [Creative Commons Attribution 4.0 International Public License](https://www.google.com/url?q=https%3A%2F%2Fcreativecommons.org%2Flicenses%2Fby%2F4.0%2Flegalcode&sa=D&sntz=1&usg=AOvVaw3DDX6ldzWtAO5wOs5KkByf).\n",
    "\n",
    "The assets are available for download at: http://download.opencontent.netflix.com/\n",
    "\n",
    "We will be utilizing a subset of the videos for demonstrating how to utilize the TwelveLabs models on Amazon Bedrock."
   ]
  },
  {
   "cell_type": "code",
   "execution_count": null,
   "id": "eec443cc",
   "metadata": {},
   "outputs": [],
   "source": [
    "# Sample video S3 URIs\n",
    "sample_videos = [\n",
    "    # 's3://download.opencontent.netflix.com/TechblogAssets/CosmosLaundromat/encodes/CosmosLaundromat_2048x858_24fps_SDR.mp4',\n",
    "    # 's3://download.opencontent.netflix.com/TechblogAssets/Meridian/encodes/Meridian_3840x2160_5994fps_SDR.mp4',\n",
    "    's3://download.opencontent.netflix.com/TechblogAssets/Sparks/encodes/Sparks_4096x2160_5994fps_SDR.mp4'\n",
    "]"
   ]
  },
  {
   "cell_type": "code",
   "execution_count": null,
   "id": "831a277e",
   "metadata": {},
   "outputs": [],
   "source": [
    "# Unsigned S3 client\n",
    "public_s3_client = boto3.client('s3', config=botocore.client.Config(signature_version=botocore.UNSIGNED))"
   ]
  },
  {
   "cell_type": "code",
   "execution_count": null,
   "id": "b64a15aa",
   "metadata": {},
   "outputs": [],
   "source": [
    "def parse_s3_uri(s3_uri: str) -> tuple[str, str]:\n",
    "    \"\"\"\n",
    "    Parses an S3 URI like s3://bucket-name/path/to/object and returns (bucket, key)\n",
    "\n",
    "    Args:\n",
    "        s3_uri (str): The S3 URI to parse\n",
    "        \n",
    "    Returns:\n",
    "        tuple[str, str]: The bucket and key\n",
    "    \"\"\"\n",
    "    pattern = r'^s3://([^/]+)/(.+)$'\n",
    "    match = re.match(pattern, s3_uri)\n",
    "    if not match:\n",
    "        raise ValueError(f\"Invalid S3 URI format: {s3_uri}\")\n",
    "    return match.group(1), match.group(2)\n",
    "\n",
    "\n",
    "def copy_public_s3_object_to_private_bucket(public_s3_uri: str, dest_bucket: str, dest_key: str, aws_profile: str = 'default') -> None:\n",
    "    \"\"\"\n",
    "    Copies a public S3 object to a private bucket\n",
    "\n",
    "    Args:\n",
    "        public_s3_uri (str): The S3 URI of the public object to copy\n",
    "        dest_bucket (str): The name of the private bucket to copy to\n",
    "        dest_key (str): The key of the object to copy to\n",
    "        aws_profile (str): The AWS profile to use for the authenticated client\n",
    "    \"\"\"\n",
    "\n",
    "    # Parse source bucket and key\n",
    "    source_bucket, source_key = parse_s3_uri(public_s3_uri)\n",
    "\n",
    "    # Anonymous client to read public object\n",
    "    anon_s3 = boto3.client('s3', config=botocore.client.Config(signature_version=botocore.UNSIGNED))\n",
    "\n",
    "    print(f\"Downloading from {public_s3_uri}...\")\n",
    "    response = anon_s3.get_object(Bucket=source_bucket, Key=source_key)\n",
    "    data = response['Body'].read()\n",
    "\n",
    "    print(f\"Uploading to s3://{dest_bucket}/{dest_key} ...\")\n",
    "    s3_client.put_object(Bucket=dest_bucket, Key=dest_key, Body=data)\n",
    "\n",
    "    print(\"✅ Copy completed successfully!\")"
   ]
  },
  {
   "cell_type": "code",
   "execution_count": null,
   "id": "393ff829",
   "metadata": {},
   "outputs": [],
   "source": [
    "# Copy videos to the S3 bucket\n",
    "for video_uri in sample_videos:\n",
    "    # Extract the filename from the S3 key\n",
    "    _, src_key = parse_s3_uri(video_uri)\n",
    "    filename = src_key.split(\"/\")[-1]\n",
    "    dest_key = f\"{S3_VIDEOS_PATH}/{filename}\"\n",
    "    copy_public_s3_object_to_private_bucket(\n",
    "        public_s3_uri=video_uri,\n",
    "        dest_bucket=S3_BUCKET_NAME,\n",
    "        dest_key=dest_key\n",
    "    )"
   ]
  },
  {
   "cell_type": "markdown",
   "id": "37dff954",
   "metadata": {},
   "source": [
    "### Bedrock model access\n"
   ]
  },
  {
   "cell_type": "markdown",
   "id": "a52bb822",
   "metadata": {},
   "source": [
    "Follow the [Bedrock model access documentation](https://docs.aws.amazon.com/bedrock/latest/userguide/model-access-modify.html) to enable access to TwelveLabs models on Bedrock. Make sure to enable access in the same region you are running this workshop."
   ]
  },
  {
   "cell_type": "code",
   "execution_count": null,
   "id": "15829c81",
   "metadata": {},
   "outputs": [],
   "source": [
    "MODEL_ID_REGIONS = {\n",
    "    \"us-west-2\": \"us.twelvelabs.pegasus-1-2-v1:0\",\n",
    "    \"eu-west-1\": \"eu.twelvelabs.pegasus-1-2-v1:0\"\n",
    "}"
   ]
  },
  {
   "cell_type": "code",
   "execution_count": null,
   "id": "59273f80",
   "metadata": {},
   "outputs": [],
   "source": [
    "try:\n",
    "    MODEL_ID = MODEL_ID_REGIONS[AWS_REGION]\n",
    "    print(MODEL_ID)\n",
    "except KeyError:\n",
    "    raise ValueError(f\"Pegasus 1.2 is not supported for {AWS_REGION}\")"
   ]
  },
  {
   "cell_type": "markdown",
   "id": "1407a85d",
   "metadata": {},
   "source": [
    "## Part 1: Using Pegasus on Bedrock"
   ]
  },
  {
   "cell_type": "markdown",
   "id": "d2fd3c67",
   "metadata": {},
   "source": [
    "#### Select the video to analyze"
   ]
  },
  {
   "cell_type": "code",
   "execution_count": null,
   "id": "11fd844a",
   "metadata": {},
   "outputs": [],
   "source": [
    "s3_response = s3_client.list_objects_v2(Bucket=S3_BUCKET_NAME, Prefix=S3_VIDEOS_PATH)\n",
    "\n",
    "# List all object keys\n",
    "if 'Contents' in s3_response:\n",
    "    object_keys = [obj['Key'] for obj in s3_response['Contents']]\n",
    "    for key in object_keys:\n",
    "        print(key)\n",
    "    print(f\"\\nTotal objects found: {len(object_keys)}\")\n",
    "else:\n",
    "    print(\"No objects found in the specified bucket and prefix.\")\n"
   ]
  },
  {
   "cell_type": "code",
   "execution_count": null,
   "id": "f157be03",
   "metadata": {},
   "outputs": [],
   "source": [
    "video_s3_key = \"<YOUR_VIDEO_S3_KEY>\" # TODO: Replace with your video S3 key\n",
    "\n",
    "# Validate video S3 key\n",
    "if video_s3_key == \"<YOUR_VIDEO_S3_KEY>\" or video_s3_key == \"\":\n",
    "    raise ValueError(\"Please replace <YOUR_VIDEO_S3_KEY> with your video S3 key\")"
   ]
  },
  {
   "cell_type": "code",
   "execution_count": null,
   "id": "97967c40",
   "metadata": {},
   "outputs": [],
   "source": [
    "def play_video(video_url: str, start_time: float) -> None:\n",
    "    \"\"\"\n",
    "    Play a video at a specific start time.\n",
    "\n",
    "    Args:\n",
    "        video_url (str): The URL of the video to play.\n",
    "        start_time (float): The start time of the video in seconds.\n",
    "    \"\"\"\n",
    "\n",
    "    # HTML code for the video player\n",
    "    html_code = f\"\"\"\n",
    "    <video width=\"640\" controls>\n",
    "        <source src=\"{video_url}#t={start_time}\" type=\"video/mp4\">\n",
    "    </video>\n",
    "    \"\"\"\n",
    "    display(HTML(html_code))"
   ]
  },
  {
   "cell_type": "markdown",
   "id": "a664eb76",
   "metadata": {},
   "source": [
    "#### View the video"
   ]
  },
  {
   "cell_type": "code",
   "execution_count": null,
   "id": "d0c1ab5e",
   "metadata": {},
   "outputs": [],
   "source": [
    "# Generate presigned URL for the video\n",
    "presigned_url = s3_client.generate_presigned_url(\n",
    "    \"get_object\",\n",
    "    Params={\"Bucket\": S3_BUCKET_NAME, \"Key\": video_s3_key},\n",
    "    ExpiresIn=3600\n",
    ")\n",
    "\n",
    "# Play the video\n",
    "play_video(presigned_url, 0)"
   ]
  },
  {
   "cell_type": "markdown",
   "id": "1f9b8142",
   "metadata": {},
   "source": [
    "### Part 1a: Analyze with Pegasus on Bedrock"
   ]
  },
  {
   "cell_type": "markdown",
   "id": "2e911971",
   "metadata": {},
   "source": [
    "#### TwelveLabs Pegasus\n",
    "\n",
    "Pegasus is a generative model for video-to-text generation. Pegasus analyzes multiple modalities to generate contextually relevant text based on the content of your videos.\n",
    "\n",
    "***Key features***\n",
    "- **Video-to-text generation**: Creates detailed textual descriptions based on video content\n",
    "- **Extended processing capacity**: Processes videos up to 1 hour in length\n",
    "- **Granular visual comprehension**: Analyzes objects, on-screen text, and numerical content\n",
    "- **Temporal grounding**: Accurately identifies timestamps of specific events\n",
    "- **Multimodal understanding**: Combines visual, audio, and textual information for comprehensive analysis\n",
    "\n",
    "***Use cases***\n",
    "- **Content summarization**: Generate concise summaries of video content\n",
    "- **Detailed descriptions**: Create comprehensive textual descriptions of visual scenes\n",
    "- **Timestamp identification**: Answer questions about when specific events occur in videos\n",
    "- **Content analysis**: Extract key information from video content for further processing\n"
   ]
  },
  {
   "cell_type": "markdown",
   "id": "1da3b8b2",
   "metadata": {},
   "source": [
    "#### Pegasus 1.2 on Bedrock\n",
    "\n",
    "The TwelveLabs Pegasus 1.2 model provides comprehensive video understanding and analysis capabilities. It can analyze video content and generate textual descriptions, insights, and answers to questions about the video.\n",
    "\n",
    "Use this information to make inference calls to TwelveLabs models with the [InvokeModel](https://docs.aws.amazon.com/bedrock/latest/APIReference/API_runtime_InvokeModel.html), [InvokeModelWithResponseStream](https://docs.aws.amazon.com/bedrock/latest/APIReference/API_runtime_InvokeModelWithResponseStream.html) (streaming) operations.\n",
    "\n",
    "- Provider — TwelveLabs\n",
    "- Categories — Video understanding, content analysis\n",
    "- Model ID — `twelvelabs.pegasus-1-2-v1:0`\n",
    "- Input modality — Video\n",
    "- Output modality — Text\n",
    "- Max video size — 1 hour long video (< 2GB file size)\n",
    "\n",
    "**Resources:**\n",
    "- [AWS Docs: TwelveLabs Pegasus 1.2](https://docs.aws.amazon.com/bedrock/latest/userguide/model-parameters-pegasus.html)\n",
    "- [TwelveLabs Docs: Pegasus](https://docs.twelvelabs.io/v1.3/docs/concepts/models/pegasus)"
   ]
  },
  {
   "cell_type": "code",
   "execution_count": null,
   "id": "86dfcbc0",
   "metadata": {},
   "outputs": [],
   "source": [
    "prompt = \"What is the video about?\"\n",
    "\n",
    "request_body = {\n",
    "    \"inputPrompt\": prompt,\n",
    "    \"mediaSource\": {\n",
    "        \"s3Location\": {\n",
    "            \"uri\": f\"s3://{S3_BUCKET_NAME}/{video_s3_key}\",\n",
    "            \"bucketOwner\": aws_account_id\n",
    "        }\n",
    "    },\n",
    "    \"temperature\": 0\n",
    "}\n",
    "\n",
    "response = bedrock_client.invoke_model(\n",
    "    modelId=MODEL_ID,\n",
    "    body=json.dumps(request_body),\n",
    "    contentType=\"application/json\",\n",
    "    accept=\"application/json\"\n",
    ")\n",
    "\n",
    "# Parse the response and print the model outputs\n",
    "response_body = json.loads(response.get(\"body\").read())\n",
    "print(response_body[\"message\"])"
   ]
  },
  {
   "cell_type": "markdown",
   "id": "71b543cc",
   "metadata": {},
   "source": [
    "### Part 1b: Pegasus streaming response"
   ]
  },
  {
   "cell_type": "code",
   "execution_count": null,
   "id": "cdb9d1fb",
   "metadata": {},
   "outputs": [],
   "source": [
    "prompt = \"What is the video about?\"\n",
    "\n",
    "request_body = {\n",
    "    \"inputPrompt\": prompt,\n",
    "    \"mediaSource\": {\n",
    "        \"s3Location\": {\n",
    "            \"uri\": f\"s3://{S3_BUCKET_NAME}/{video_s3_key}\",\n",
    "            \"bucketOwner\": aws_account_id\n",
    "        }\n",
    "    },\n",
    "    \"temperature\": 0\n",
    "}\n",
    "\n",
    "streaming_response = bedrock_client.invoke_model_with_response_stream(\n",
    "    modelId=MODEL_ID,\n",
    "    body=json.dumps(request_body),\n",
    "    contentType=\"application/json\",\n",
    "    accept=\"application/json\"\n",
    ")\n",
    "\n",
    "# Extract and print the response text in real-time.\n",
    "message = \"\"\n",
    "for event in streaming_response[\"body\"]:\n",
    "    chunk = json.loads(event[\"chunk\"][\"bytes\"])\n",
    "    print(chunk[\"message\"], end=\"\")\n",
    "\n",
    "print(message)"
   ]
  },
  {
   "cell_type": "markdown",
   "id": "5595edbb",
   "metadata": {},
   "source": [
    "## Part 2: Video Analysis with Pegasus"
   ]
  },
  {
   "cell_type": "markdown",
   "id": "2e59da37",
   "metadata": {},
   "source": [
    "Pegasus analyzes videos to generate text based on their content using a multimodal approach. This method analyzes the visuals, sounds, spoken words, and relationships between them. As a result, it provides a comprehensive understanding of your videos, capturing nuances that might be overlooked when using an unimodal interpretation.\n",
    "\n",
    "The platform generates the following types of text:\n",
    "- **Topics and hashtags:** Represent a swift breakdown of the essence of a video.\n",
    "- **Summaries:** Encapsulate the key points of a video, presenting the most important information clearly and concisely.\n",
    "- **Highlights:** List the key events in order. Unlike chapters, they spotlight primary topics.\n",
    "- **Chapters:** A chapter in a video typically focuses on a particular topic or theme. The platform chronologically lists all the chapters in your video for a thorough content breakdown.\n",
    "- **Open-ended text (your own prompt):** Custom outputs based on your prompts, including, but not limited to, tables of content, action items, memos, reports, marketing copy, and comprehensive analyses.\n"
   ]
  },
  {
   "cell_type": "markdown",
   "id": "7c5ffe0e",
   "metadata": {},
   "source": [
    "### Part 2a: Summaries, hashtags, and highlights"
   ]
  },
  {
   "cell_type": "code",
   "execution_count": null,
   "id": "f3154a85",
   "metadata": {},
   "outputs": [],
   "source": [
    "# Generate a summary of the video\n",
    "prompt = \"Summarize the video\"\n",
    "\n",
    "request_body = {\n",
    "    \"inputPrompt\": prompt,\n",
    "    \"mediaSource\": {\n",
    "        \"s3Location\": {\n",
    "            \"uri\": f\"s3://{S3_BUCKET_NAME}/{video_s3_key}\",\n",
    "            \"bucketOwner\": aws_account_id\n",
    "        }\n",
    "    },\n",
    "    \"temperature\": 0\n",
    "}\n",
    "\n",
    "streaming_response = bedrock_client.invoke_model_with_response_stream(\n",
    "    modelId=MODEL_ID,\n",
    "    body=json.dumps(request_body),\n",
    "    contentType=\"application/json\",\n",
    "    accept=\"application/json\"\n",
    ")\n",
    "\n",
    "# Extract and print the response text in real-time.\n",
    "message = \"\"\n",
    "for event in streaming_response[\"body\"]:\n",
    "    chunk = json.loads(event[\"chunk\"][\"bytes\"])\n",
    "    print(chunk[\"message\"], end=\"\")\n",
    "\n",
    "print(message)"
   ]
  },
  {
   "cell_type": "code",
   "execution_count": null,
   "id": "4ab22c8c",
   "metadata": {},
   "outputs": [],
   "source": [
    "# Generate relevant hashtags for the video\n",
    "prompt = \"Generate hashtags for the video\"\n",
    "\n",
    "request_body = {\n",
    "    \"inputPrompt\": prompt,\n",
    "    \"mediaSource\": {\n",
    "        \"s3Location\": {\n",
    "            \"uri\": f\"s3://{S3_BUCKET_NAME}/{video_s3_key}\",\n",
    "            \"bucketOwner\": aws_account_id\n",
    "        }\n",
    "    },\n",
    "    \"temperature\": 0\n",
    "}\n",
    "\n",
    "streaming_response = bedrock_client.invoke_model_with_response_stream(\n",
    "    modelId=MODEL_ID,\n",
    "    body=json.dumps(request_body),\n",
    "    contentType=\"application/json\",\n",
    "    accept=\"application/json\"\n",
    ")\n",
    "\n",
    "# Extract and print the response text in real-time.\n",
    "message = \"\"\n",
    "for event in streaming_response[\"body\"]:\n",
    "    chunk = json.loads(event[\"chunk\"][\"bytes\"])\n",
    "    print(chunk[\"message\"], end=\"\")\n",
    "\n",
    "print(message)"
   ]
  },
  {
   "cell_type": "code",
   "execution_count": null,
   "id": "bd920d76",
   "metadata": {},
   "outputs": [],
   "source": [
    "# Generate highlights of the video\n",
    "prompt = \"What are the highlighted moments of this video?\"\n",
    "\n",
    "request_body = {\n",
    "    \"inputPrompt\": prompt,\n",
    "    \"mediaSource\": {\n",
    "        \"s3Location\": {\n",
    "            \"uri\": f\"s3://{S3_BUCKET_NAME}/{video_s3_key}\",\n",
    "            \"bucketOwner\": aws_account_id\n",
    "        }\n",
    "    },\n",
    "    \"temperature\": 0\n",
    "}\n",
    "\n",
    "streaming_response = bedrock_client.invoke_model_with_response_stream(\n",
    "    modelId=MODEL_ID,\n",
    "    body=json.dumps(request_body),\n",
    "    contentType=\"application/json\",\n",
    "    accept=\"application/json\"\n",
    ")\n",
    "\n",
    "# Extract and print the response text in real-time.\n",
    "message = \"\"\n",
    "for event in streaming_response[\"body\"]:\n",
    "    chunk = json.loads(event[\"chunk\"][\"bytes\"])\n",
    "    print(chunk[\"message\"], end=\"\")\n",
    "\n",
    "print(message)"
   ]
  },
  {
   "cell_type": "markdown",
   "id": "d813bb33",
   "metadata": {},
   "source": [
    "### Part 2b: Structured outputs\n",
    "\n",
    "Structured outputs for Pegasus lets users specify the structured output format as a JSON schema. Structured outputs can be useful for building automated integrations to application workflows such as metadata enrichment."
   ]
  },
  {
   "cell_type": "code",
   "execution_count": null,
   "id": "53e81f1d",
   "metadata": {},
   "outputs": [],
   "source": [
    "# Using JSON Schema to generate structured output\n",
    "prompt = \"\"\"\n",
    "Generate metadata for the video with the following fields:\n",
    "- title\n",
    "- description\n",
    "- mood\n",
    "- genre\n",
    "\"\"\"\n",
    "\n",
    "request_body = {\n",
    "    \"inputPrompt\": prompt,\n",
    "    \"mediaSource\": {\n",
    "        \"s3Location\": {\n",
    "            \"uri\": f\"s3://{S3_BUCKET_NAME}/{video_s3_key}\",\n",
    "            \"bucketOwner\": aws_account_id\n",
    "        }\n",
    "    },\n",
    "    \"temperature\": 0,\n",
    "    \"responseFormat\": {\n",
    "        \"jsonSchema\": {\n",
    "            \"name\": \"video_metadata\",\n",
    "            \"schema\": {\n",
    "                \"type\": \"object\",\n",
    "                \"properties\": {\n",
    "                    \"title\": {\n",
    "                        \"type\": \"string\",\n",
    "                        \"description\": \"The title of the video\"\n",
    "                    },\n",
    "                    \"description\": {\n",
    "                        \"type\": \"string\",\n",
    "                        \"description\": \"The description of the video\"\n",
    "                    },\n",
    "                    \"mood\": {\n",
    "                        \"type\": \"string\",\n",
    "                        \"description\": \"The mood of the video\"\n",
    "                    },\n",
    "                    \"genre\": {\n",
    "                        \"type\": \"string\",\n",
    "                        \"description\": \"The genre of the video\"\n",
    "                    }\n",
    "                },\n",
    "                \"required\": [\"title\", \"description\", \"mood\", \"genre\"]\n",
    "            }\n",
    "        }\n",
    "    }\n",
    "}\n",
    "\n",
    "response = bedrock_client.invoke_model(\n",
    "    modelId=MODEL_ID,\n",
    "    body=json.dumps(request_body),\n",
    "    contentType=\"application/json\",\n",
    "    accept=\"application/json\"\n",
    ")\n",
    "\n",
    "# Parse the response and print the model outputs\n",
    "response_body = json.loads(response.get(\"body\").read())\n",
    "message_data = json.loads(response_body[\"message\"])\n",
    "print(json.dumps(message_data, indent=4))"
   ]
  },
  {
   "cell_type": "markdown",
   "id": "61905d66",
   "metadata": {},
   "source": [
    "## Cleanup"
   ]
  },
  {
   "cell_type": "markdown",
   "id": "7846f726",
   "metadata": {},
   "source": [
    "#### Empty S3 bucket"
   ]
  },
  {
   "cell_type": "code",
   "execution_count": null,
   "id": "c727baf4",
   "metadata": {},
   "outputs": [],
   "source": [
    "# List objects and prepare for deletion\n",
    "response = s3_client.list_objects_v2(Bucket=S3_BUCKET_NAME)\n",
    "\n",
    "# Empty S3 bucket\n",
    "try:\n",
    "    if 'Contents' in response:\n",
    "        objects_to_delete = [{'Key': obj['Key']} for obj in response['Contents']]\n",
    "        s3_client.delete_objects(\n",
    "            Bucket=S3_BUCKET_NAME,\n",
    "            Delete={'Objects': objects_to_delete}\n",
    "        )\n",
    "        print(f\"✅ Bucket '{S3_BUCKET_NAME}' emptied successfully.\")\n",
    "    else:\n",
    "        print(f\"✅ Bucket '{S3_BUCKET_NAME}' is already empty.\")\n",
    "except Exception as e:\n",
    "    print(f\"❌ Error emptying bucket '{S3_BUCKET_NAME}': {e}\")"
   ]
  }
 ],
 "metadata": {
  "kernelspec": {
   "display_name": "tl",
   "language": "python",
   "name": "python3"
  },
  "language_info": {
   "codemirror_mode": {
    "name": "ipython",
    "version": 3
   },
   "file_extension": ".py",
   "mimetype": "text/x-python",
   "name": "python",
   "nbconvert_exporter": "python",
   "pygments_lexer": "ipython3",
   "version": "3.12.2"
  }
 },
 "nbformat": 4,
 "nbformat_minor": 5
}
