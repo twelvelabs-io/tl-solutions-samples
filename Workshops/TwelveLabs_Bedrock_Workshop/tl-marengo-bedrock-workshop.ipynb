{
 "cells": [
  {
   "cell_type": "markdown",
   "id": "5e388aa2",
   "metadata": {},
   "source": [
    "# TwelveLabs Marengo on Amazon Bedrock Workshop"
   ]
  },
  {
   "cell_type": "markdown",
   "id": "5ce269fb",
   "metadata": {},
   "source": [
    "## Part 0: Setup"
   ]
  },
  {
   "cell_type": "markdown",
   "id": "eaff9e6c",
   "metadata": {},
   "source": [
    "### Dependencies"
   ]
  },
  {
   "cell_type": "code",
   "execution_count": null,
   "id": "c50f0a49",
   "metadata": {},
   "outputs": [],
   "source": [
    "%pip install -r requirements.txt -Uq"
   ]
  },
  {
   "cell_type": "code",
   "execution_count": null,
   "id": "33a876ba",
   "metadata": {},
   "outputs": [],
   "source": [
    "import boto3, botocore\n",
    "import json\n",
    "import re\n",
    "import pandas as pd\n",
    "import numpy as np\n",
    "import uuid\n",
    "import time\n",
    "from IPython.display import clear_output, HTML, display, JSON\n",
    "from sklearn.metrics.pairwise import cosine_similarity\n",
    "from opensearchpy import AWSV4SignerAuth, NotFoundError, OpenSearch, RequestsHttpConnection"
   ]
  },
  {
   "cell_type": "markdown",
   "id": "e17eca32",
   "metadata": {},
   "source": [
    "### Configure boto3"
   ]
  },
  {
   "cell_type": "code",
   "execution_count": null,
   "id": "f8614f11",
   "metadata": {},
   "outputs": [],
   "source": [
    "AWS_REGION = \"us-east-1\" # TODO: Replace with your AWS region"
   ]
  },
  {
   "cell_type": "code",
   "execution_count": null,
   "id": "3854e240",
   "metadata": {},
   "outputs": [],
   "source": [
    "# Initialize AWS session\n",
    "session = boto3.Session(profile_name='default') # TODO: Replace with your AWS profile\n",
    "\n",
    "# Initialize AWS clients\n",
    "bedrock_client = session.client('bedrock-runtime', region_name=AWS_REGION)\n",
    "s3_client = session.client('s3')\n"
   ]
  },
  {
   "cell_type": "markdown",
   "id": "c0408083",
   "metadata": {},
   "source": [
    "### Configure S3 bucket"
   ]
  },
  {
   "cell_type": "code",
   "execution_count": null,
   "id": "dd12920b",
   "metadata": {},
   "outputs": [],
   "source": [
    "# S3 Configuration\n",
    "S3_BUCKET_NAME = \"<YOUR_S3_BUCKET>\" # TODO: Replace with your S3 bucket name\n",
    "S3_VIDEOS_PATH = \"videos\"\n",
    "S3_IMAGES_PATH = \"images\"\n",
    "S3_EMBEDDINGS_PATH = \"embeddings\""
   ]
  },
  {
   "cell_type": "markdown",
   "id": "d05dd6a5",
   "metadata": {},
   "source": [
    "### Enabling model access on Amazon Bedrock"
   ]
  },
  {
   "cell_type": "markdown",
   "id": "f0652dbc",
   "metadata": {},
   "source": [
    "## Part 1: Multimodal Embeddings with Marengo"
   ]
  },
  {
   "cell_type": "markdown",
   "id": "9cde65ef",
   "metadata": {},
   "source": [
    "### Part 1a: What is an embedding?"
   ]
  },
  {
   "cell_type": "markdown",
   "id": "b6f27a98",
   "metadata": {
    "vscode": {
     "languageId": "raw"
    }
   },
   "source": [
    "\n"
   ]
  },
  {
   "cell_type": "code",
   "execution_count": null,
   "id": "76298876",
   "metadata": {},
   "outputs": [],
   "source": [
    "# Sample embeddings\n",
    "sample_embedding_1 = np.random.rand(1, 1024)\n",
    "sample_embedding_2 = np.random.rand(1, 1024)\n",
    "\n",
    "df_embedding_1 = pd.DataFrame(sample_embedding_1)\n",
    "df_embedding_2 = pd.DataFrame(sample_embedding_2)\n",
    "\n",
    "df_embedding_1\n"
   ]
  },
  {
   "cell_type": "code",
   "execution_count": null,
   "id": "06dbd437",
   "metadata": {},
   "outputs": [],
   "source": [
    "# Sample video embedding\n",
    "sample_video_embedding = np.random.rand(5, 1024)\n",
    "df_video_embedding = pd.DataFrame(sample_video_embedding)\n",
    "df_video_embedding"
   ]
  },
  {
   "cell_type": "markdown",
   "id": "6e9d44fe",
   "metadata": {},
   "source": [
    "### Part 1b: Calculating cosine similarity"
   ]
  },
  {
   "cell_type": "markdown",
   "id": "796e7a32",
   "metadata": {},
   "source": []
  },
  {
   "cell_type": "code",
   "execution_count": null,
   "id": "15411bde",
   "metadata": {},
   "outputs": [],
   "source": [
    "# Cosine similarity between two single segment embeddings\n",
    "similarity = cosine_similarity(df_embedding_1, df_embedding_2)\n",
    "pd.DataFrame(similarity)"
   ]
  },
  {
   "cell_type": "code",
   "execution_count": null,
   "id": "70473e9c",
   "metadata": {},
   "outputs": [],
   "source": [
    "# Cosine similarity with a multi-segment embedding\n",
    "similarities = cosine_similarity(df_video_embedding, df_embedding_1)\n",
    "pd.DataFrame(similarities)"
   ]
  },
  {
   "cell_type": "code",
   "execution_count": null,
   "id": "c76bf486",
   "metadata": {},
   "outputs": [],
   "source": [
    "# Getting the max similarity and the index of the max similarity\n",
    "max_similarity = np.max(similarities)\n",
    "max_similarity_index = np.argmax(similarities)\n",
    "\n",
    "print(f\"Max similarity: {max_similarity}\")\n",
    "print(f\"Index of max similarity: {max_similarity_index}\")"
   ]
  },
  {
   "cell_type": "markdown",
   "id": "735e9437",
   "metadata": {},
   "source": [
    "## Part 2: Building Multimodal Video Search\n"
   ]
  },
  {
   "cell_type": "markdown",
   "id": "a3c3cee1",
   "metadata": {},
   "source": [
    "### Part 2a: Storing videos in S3"
   ]
  },
  {
   "cell_type": "markdown",
   "id": "86911a29",
   "metadata": {},
   "source": [
    "#### Set up sample dataset to S3 bucket"
   ]
  },
  {
   "cell_type": "code",
   "execution_count": null,
   "id": "b5714aaf",
   "metadata": {},
   "outputs": [],
   "source": [
    "# AWS Account ID for S3 bucket ownership\n",
    "aws_account_id = session.client('sts').get_caller_identity()[\"Account\"]\n",
    "\n",
    "print(f\"AWS Account ID: {aws_account_id}\")\n",
    "print(f\"S3 Bucket: {S3_BUCKET_NAME}\")\n",
    "print(f\"S3 Videos Path: {S3_VIDEOS_PATH}\")\n",
    "print(f\"S3 Images Path: {S3_IMAGES_PATH}\")\n",
    "print(f\"S3 Embeddings Path: {S3_EMBEDDINGS_PATH}\")\n",
    "\n",
    "# Verify bucket access\n",
    "try:\n",
    "    s3_client.head_bucket(Bucket=S3_BUCKET_NAME)\n",
    "    print(f\"✅ Successfully connected to S3 bucket: {S3_BUCKET_NAME}\")\n",
    "except Exception as e:\n",
    "    print(f\"❌ Error accessing S3 bucket: {e}\")\n",
    "    print(\"Please ensure the bucket exists and you have proper permissions.\")\n"
   ]
  },
  {
   "cell_type": "markdown",
   "id": "35c756de",
   "metadata": {},
   "source": [
    "#### Netflix Open Content\n",
    "\n",
    "The [Netflix Open Content](https://opencontent.netflix.com/) is an open source content available under the [Creative Commons Attribution 4.0 International Public License](https://www.google.com/url?q=https%3A%2F%2Fcreativecommons.org%2Flicenses%2Fby%2F4.0%2Flegalcode&sa=D&sntz=1&usg=AOvVaw3DDX6ldzWtAO5wOs5KkByf).\n",
    "\n",
    "The assets are available for download at: http://download.opencontent.netflix.com/\n",
    "\n",
    "We will be utilizing a subset of the videos for demonstrating how to utilize the TwelveLabs models on Amazon Bedrock."
   ]
  },
  {
   "cell_type": "code",
   "execution_count": null,
   "id": "bee8a738",
   "metadata": {},
   "outputs": [],
   "source": [
    "sample_videos = [\n",
    "    's3://download.opencontent.netflix.com/TechblogAssets/CosmosLaundromat/encodes/CosmosLaundromat_2048x858_24fps_SDR.mp4',\n",
    "    's3://download.opencontent.netflix.com/TechblogAssets/Meridian/encodes/Meridian_3840x2160_5994fps_SDR.mp4',\n",
    "    's3://download.opencontent.netflix.com/TechblogAssets/Sparks/encodes/Sparks_4096x2160_5994fps_SDR.mp4'\n",
    "]"
   ]
  },
  {
   "cell_type": "code",
   "execution_count": null,
   "id": "d88871c0",
   "metadata": {},
   "outputs": [],
   "source": [
    "public_s3_client = boto3.client('s3', config=botocore.client.Config(signature_version=botocore.UNSIGNED))"
   ]
  },
  {
   "cell_type": "code",
   "execution_count": null,
   "id": "112e5e39",
   "metadata": {},
   "outputs": [],
   "source": [
    "def parse_s3_uri(s3_uri: str) -> tuple[str, str]:\n",
    "    \"\"\"\n",
    "    Parses an S3 URI like s3://bucket-name/path/to/object and returns (bucket, key)\n",
    "\n",
    "    Args:\n",
    "        s3_uri (str): The S3 URI to parse\n",
    "        \n",
    "    Returns:\n",
    "        tuple[str, str]: The bucket and key\n",
    "    \"\"\"\n",
    "    pattern = r'^s3://([^/]+)/(.+)$'\n",
    "    match = re.match(pattern, s3_uri)\n",
    "    if not match:\n",
    "        raise ValueError(f\"Invalid S3 URI format: {s3_uri}\")\n",
    "    return match.group(1), match.group(2)\n",
    "\n",
    "def copy_public_s3_object_to_private_bucket(public_s3_uri: str, dest_bucket: str, dest_key: str, aws_profile: str = 'default') -> None:\n",
    "    \"\"\"\n",
    "    Copies a public S3 object to a private bucket\n",
    "\n",
    "    Args:\n",
    "        public_s3_uri (str): The S3 URI of the public object to copy\n",
    "        dest_bucket (str): The name of the private bucket to copy to\n",
    "        dest_key (str): The key of the object to copy to\n",
    "        aws_profile (str): The AWS profile to use for the authenticated client\n",
    "    \"\"\"\n",
    "\n",
    "    # Parse source bucket and key\n",
    "    source_bucket, source_key = parse_s3_uri(public_s3_uri)\n",
    "\n",
    "    # Anonymous client to read public object\n",
    "    anon_s3 = boto3.client('s3', config=botocore.client.Config(signature_version=botocore.UNSIGNED))\n",
    "\n",
    "    print(f\"Downloading from {public_s3_uri}...\")\n",
    "    response = anon_s3.get_object(Bucket=source_bucket, Key=source_key)\n",
    "    data = response['Body'].read()\n",
    "\n",
    "    print(f\"Uploading to s3://{dest_bucket}/{dest_key} ...\")\n",
    "    s3_client.put_object(Bucket=dest_bucket, Key=dest_key, Body=data)\n",
    "\n",
    "    print(\"✅ Copy completed successfully!\")"
   ]
  },
  {
   "cell_type": "code",
   "execution_count": null,
   "id": "a841d756",
   "metadata": {},
   "outputs": [],
   "source": [
    "# Copy videos to the S3 bucket\n",
    "for video_uri in sample_videos:\n",
    "    # Extract the filename from the S3 key\n",
    "    _, src_key = parse_s3_uri(video_uri)\n",
    "    filename = src_key.split(\"/\")[-1]\n",
    "    dest_key = f\"{S3_VIDEOS_PATH}/{filename}\"\n",
    "    copy_public_s3_object_to_private_bucket(\n",
    "        public_s3_uri=video_uri,\n",
    "        dest_bucket=S3_BUCKET_NAME,\n",
    "        dest_key=dest_key\n",
    "    )"
   ]
  },
  {
   "cell_type": "markdown",
   "id": "141d059e",
   "metadata": {},
   "source": [
    "### Part 2b: Creating vector embeddings with Marengo on Bedrock"
   ]
  },
  {
   "cell_type": "markdown",
   "id": "dc8b570d",
   "metadata": {},
   "source": [
    "#### Invoking Marengo on Bedrock"
   ]
  },
  {
   "cell_type": "code",
   "execution_count": null,
   "id": "0eb1e7a7",
   "metadata": {},
   "outputs": [],
   "source": [
    "# Marengo model configuration\n",
    "MODEL_ID = 'twelvelabs.marengo-embed-2-7-v1:0'"
   ]
  },
  {
   "cell_type": "code",
   "execution_count": null,
   "id": "ebc6349a",
   "metadata": {},
   "outputs": [],
   "source": [
    "# Helper function to wait for async embedding results\n",
    "def wait_for_embedding_output(s3_bucket: str, s3_prefix: str, invocation_arn: str, verbose: bool = False) -> list:\n",
    "    \"\"\"\n",
    "    Wait for Bedrock async embedding task to complete and retrieve results\n",
    "\n",
    "    Args:\n",
    "        s3_bucket (str): The S3 bucket name\n",
    "        s3_prefix (str): The S3 prefix for the embeddings\n",
    "        invocation_arn (str): The ARN of the Bedrock async embedding task\n",
    "\n",
    "    Returns:\n",
    "        list: A list of embedding data\n",
    "        \n",
    "    Raises:\n",
    "        Exception: If the embedding task fails or no output.json is found\n",
    "    \"\"\"\n",
    "    \n",
    "    # Wait until task completes\n",
    "    status = None\n",
    "    while status not in [\"Completed\", \"Failed\", \"Expired\"]:\n",
    "        response = bedrock_client.get_async_invoke(invocationArn=invocation_arn)\n",
    "        status = response['status']\n",
    "        if verbose:\n",
    "            clear_output(wait=True)\n",
    "            print(f\"Embedding task status: {status}\")\n",
    "        time.sleep(5)\n",
    "    \n",
    "    if status != \"Completed\":\n",
    "        raise Exception(f\"Embedding task failed with status: {status}\")\n",
    "    \n",
    "    # Retrieve the output from S3\n",
    "    response = s3_client.list_objects_v2(Bucket=s3_bucket, Prefix=s3_prefix)\n",
    "    \n",
    "    for obj in response.get('Contents', []):\n",
    "        if obj['Key'].endswith('output.json'):\n",
    "            output_key = obj['Key']\n",
    "            obj = s3_client.get_object(Bucket=s3_bucket, Key=output_key)\n",
    "            content = obj['Body'].read().decode('utf-8')\n",
    "            data = json.loads(content).get(\"data\", [])\n",
    "            return data\n",
    "    \n",
    "    raise Exception(\"No output.json found in S3 prefix\")"
   ]
  },
  {
   "cell_type": "code",
   "execution_count": null,
   "id": "89f68eb4",
   "metadata": {},
   "outputs": [],
   "source": [
    "# Create text embedding\n",
    "def create_text_embedding(text_query: str) -> list:\n",
    "    \"\"\"\n",
    "    Create embeddings for text using Marengo on Bedrock\n",
    "\n",
    "    Args:\n",
    "        text_query (str): The text query to create an embedding for\n",
    "        \n",
    "    Returns:\n",
    "        list: A list of embedding data\n",
    "    \"\"\"\n",
    "    \n",
    "    s3_output_prefix = f'{S3_EMBEDDINGS_PATH}/text/{uuid.uuid4()}'\n",
    "    \n",
    "    response = bedrock_client.start_async_invoke(\n",
    "        modelId=MODEL_ID,\n",
    "        modelInput={\n",
    "            \"inputType\": \"text\",\n",
    "            \"inputText\": text_query\n",
    "        },\n",
    "        outputDataConfig={\n",
    "            \"s3OutputDataConfig\": {\n",
    "                \"s3Uri\": f's3://{S3_BUCKET_NAME}/{s3_output_prefix}'\n",
    "            }\n",
    "        }\n",
    "    )\n",
    "    \n",
    "    invocation_arn = response[\"invocationArn\"]\n",
    "    print(f\"Text embedding task started: {invocation_arn}\")\n",
    "    \n",
    "    # Wait for completion and get results\n",
    "    try:\n",
    "        embedding_data = wait_for_embedding_output(S3_BUCKET_NAME, s3_output_prefix, invocation_arn)\n",
    "    except Exception as e:\n",
    "        print(f\"Error waiting for embedding output: {e}\")\n",
    "        return None\n",
    "    \n",
    "    return embedding_data"
   ]
  },
  {
   "cell_type": "code",
   "execution_count": null,
   "id": "6512beba",
   "metadata": {},
   "outputs": [],
   "source": [
    "# Example: Create text embedding\n",
    "text_query = \"two people having a conversation in a car\"\n",
    "\n",
    "print(f\"Creating text embedding for query\")\n",
    "text_embedding_data = create_text_embedding(text_query)\n",
    "\n",
    "print(f\"✅ Text embedding created successfully with {len(text_embedding_data)} segment and {len(text_embedding_data[0]['embedding'])} dimensions.\")"
   ]
  },
  {
   "cell_type": "code",
   "execution_count": null,
   "id": "6df07260",
   "metadata": {},
   "outputs": [],
   "source": [
    "# Create video embedding\n",
    "def create_video_embedding(video_s3_uri: str) -> list:\n",
    "    \"\"\"\n",
    "    Create embeddings for video using Marengo on Bedrock\n",
    "    \n",
    "    Args:\n",
    "        video_s3_uri (str): The S3 URI of the video to create an embedding for\n",
    "        \n",
    "    Returns:\n",
    "        list: A list of embedding data\n",
    "    \"\"\"\n",
    "    \n",
    "    s3_output_prefix = f'{S3_EMBEDDINGS_PATH}/{S3_VIDEOS_PATH}/{uuid.uuid4()}'\n",
    "    \n",
    "    response = bedrock_client.start_async_invoke(\n",
    "        modelId=MODEL_ID,\n",
    "        modelInput={\n",
    "            \"inputType\": \"video\",\n",
    "            \"mediaSource\": {\n",
    "                \"s3Location\": {\n",
    "                    \"uri\": video_s3_uri,\n",
    "                    \"bucketOwner\": aws_account_id\n",
    "                }\n",
    "            }\n",
    "        },\n",
    "        outputDataConfig={\n",
    "            \"s3OutputDataConfig\": {\n",
    "                \"s3Uri\": f's3://{S3_BUCKET_NAME}/{s3_output_prefix}'\n",
    "            }\n",
    "        }\n",
    "    )\n",
    "    \n",
    "    invocation_arn = response[\"invocationArn\"]\n",
    "    print(f\"Video embedding task started: {invocation_arn}\")\n",
    "    \n",
    "    # Wait for completion and get results\n",
    "    try:\n",
    "        embedding_data = wait_for_embedding_output(S3_BUCKET_NAME, s3_output_prefix, invocation_arn)\n",
    "    except Exception as e:\n",
    "        print(f\"Error waiting for embedding output: {e}\")\n",
    "        return None\n",
    "    \n",
    "    return embedding_data\n"
   ]
  },
  {
   "cell_type": "code",
   "execution_count": null,
   "id": "2b0d39bb",
   "metadata": {},
   "outputs": [],
   "source": [
    "# Example: Create video embedding\n",
    "videos = s3_client.list_objects_v2(Bucket=S3_BUCKET_NAME, Prefix=S3_VIDEOS_PATH)[\"Contents\"]\n",
    "video_uri = f\"s3://{S3_BUCKET_NAME}/{videos[0]['Key']}\"\n",
    "\n",
    "print(f\"Creating embeddings for video: {video_uri}\")\n",
    "video_embedding_data = create_video_embedding(video_uri)\n",
    "\n",
    "print(f\"✅ Video embedding created successfully with {len(video_embedding_data)} segment(s)\")"
   ]
  },
  {
   "cell_type": "markdown",
   "id": "81c1e767",
   "metadata": {},
   "source": [
    "### Part 2c: Creating a vector index in OpenSearch Serverless"
   ]
  },
  {
   "cell_type": "markdown",
   "id": "435f4d7b",
   "metadata": {},
   "source": [
    "#### Configure Amazon Opensearch Serverless Client"
   ]
  },
  {
   "cell_type": "code",
   "execution_count": null,
   "id": "7fdf962f",
   "metadata": {},
   "outputs": [],
   "source": [
    "# OpenSearch Serverless configuration\n",
    "OPENSEARCH_ENDPOINT = \"<YOUR_OPENSEARCH_ENDPOINT>\"  # TODO: Replace with your OpenSearch endpoint\n",
    "INDEX_NAME = \"video-embeddings-index\"\n",
    "\n",
    "# Create OpenSearch client for Amazon OpenSearch Serverless\n",
    "service = \"aoss\"\n",
    "credentials = session.get_credentials()\n",
    "auth = AWSV4SignerAuth(credentials, AWS_REGION, service)\n",
    "\n",
    "os_client = OpenSearch(\n",
    "    hosts=[{\"host\": OPENSEARCH_ENDPOINT, \"port\": 443}],\n",
    "    http_auth=auth,\n",
    "    use_ssl=True,\n",
    "    verify_certs=True,\n",
    "    connection_class=RequestsHttpConnection,\n",
    "    pool_maxsize=20,\n",
    ")"
   ]
  },
  {
   "cell_type": "markdown",
   "id": "bc8336c8",
   "metadata": {},
   "source": [
    "#### Create a new index"
   ]
  },
  {
   "cell_type": "code",
   "execution_count": null,
   "id": "267e0697",
   "metadata": {},
   "outputs": [],
   "source": [
    "# Create OpenSearch vector index\n",
    "def create_opensearch_index(os_client: OpenSearch, index_name: str):\n",
    "    \"\"\"\n",
    "    Create a vector index in OpenSearch for storing video embeddings\n",
    "\n",
    "    Args:\n",
    "        os_client (OpenSearch): The OpenSearch client\n",
    "        index_name (str): The name of the index to create\n",
    "\n",
    "    Returns:\n",
    "        None\n",
    "    \"\"\"\n",
    "    \n",
    "    if os_client.indices.exists(index=index_name):\n",
    "        print(f\"Index '{index_name}' already exists.\")\n",
    "        return\n",
    "    \n",
    "    index_body = {\n",
    "        \"settings\": {\n",
    "            \"index\": {\n",
    "                \"knn\": True,\n",
    "                \"number_of_shards\": 1,\n",
    "            }\n",
    "        },\n",
    "        \"mappings\": {\n",
    "            \"properties\": {\n",
    "                \"embedding\": {\n",
    "                    \"type\": \"knn_vector\",\n",
    "                    \"dimension\": 1024,\n",
    "                    \"method\": {\n",
    "                        \"engine\": \"faiss\",\n",
    "                        \"name\": \"hnsw\",\n",
    "                        \"space_type\": \"cosinesimil\",\n",
    "                    },\n",
    "                },\n",
    "                \"start_time\": {\"type\": \"float\"},\n",
    "                \"end_time\": {\"type\": \"float\"},\n",
    "                \"video_id\": {\"type\": \"keyword\"},\n",
    "                \"segment_text\": {\"type\": \"text\"},\n",
    "                \"embedding_option\": {\"type\": \"keyword\"}\n",
    "            }\n",
    "        },\n",
    "    }\n",
    "    \n",
    "    os_client.indices.create(index=index_name, body=index_body)\n",
    "    print(f\"✅ Index '{index_name}' created successfully.\")\n",
    "\n",
    "# Create the index\n",
    "create_opensearch_index(os_client, INDEX_NAME)\n"
   ]
  },
  {
   "cell_type": "markdown",
   "id": "e5e50715",
   "metadata": {},
   "source": [
    "#### Bulk process videos in S3 with Marengo"
   ]
  },
  {
   "cell_type": "code",
   "execution_count": null,
   "id": "3b9fb0fc",
   "metadata": {},
   "outputs": [],
   "source": [
    "# Index video embeddings in OpenSearch\n",
    "def index_video_embeddings(os_client: OpenSearch, index_name: str, video_embeddings: list, video_id: str = \"sample_video\") -> int:\n",
    "    \"\"\"\n",
    "    Index video embeddings into OpenSearch\n",
    "    \n",
    "    Args:\n",
    "        os_client (OpenSearch): The OpenSearch client\n",
    "        index_name (str): The name of the index to create\n",
    "        video_embeddings (list): The list of video embeddings\n",
    "        video_id (str): The id of the video\n",
    "\n",
    "    Returns:\n",
    "        int: The number of documents indexed\n",
    "    \"\"\"\n",
    "    \n",
    "    documents = []\n",
    "    \n",
    "    for i, segment in enumerate(video_embeddings):\n",
    "        document = {\n",
    "            \"embedding\": segment[\"embedding\"],\n",
    "            \"start_time\": segment[\"startSec\"],\n",
    "            \"end_time\": segment[\"endSec\"],\n",
    "            \"video_id\": video_id,\n",
    "            \"segment_id\": i,\n",
    "            \"embedding_option\": segment.get(\"embeddingOption\", \"visual-text\")\n",
    "        }\n",
    "        documents.append(document)\n",
    "    \n",
    "    # Bulk index documents\n",
    "    bulk_data = []\n",
    "    for doc in documents:\n",
    "        bulk_data.append({\"index\": {\"_index\": index_name}})\n",
    "        bulk_data.append(doc)\n",
    "    \n",
    "    # Convert to bulk format\n",
    "    bulk_body = \"\\n\".join(json.dumps(item) for item in bulk_data) + \"\\n\"\n",
    "    \n",
    "    response = os_client.bulk(body=bulk_body, index=index_name)\n",
    "    \n",
    "    if response[\"errors\"]:\n",
    "        print(\"Some documents failed to index:\")\n",
    "        for item in response[\"items\"]:\n",
    "            if \"index\" in item and \"error\" in item[\"index\"]:\n",
    "                print(f\"Error: {item['index']['error']}\")\n",
    "    \n",
    "    return len(documents)"
   ]
  },
  {
   "cell_type": "code",
   "execution_count": null,
   "id": "61e5b2e0",
   "metadata": {},
   "outputs": [],
   "source": [
    "# Retrieve the list of videos in the s3 bucket and loop through them to create embeddings\n",
    "videos = s3_client.list_objects_v2(Bucket=S3_BUCKET_NAME, Prefix=S3_VIDEOS_PATH)[\"Contents\"]\n",
    "\n",
    "for video in videos:\n",
    "    video_uri = f\"s3://{S3_BUCKET_NAME}/{video['Key']}\"\n",
    "    print(f\"Creating embeddings for video: {video_uri}\")\n",
    "    video_embedding_data = create_video_embedding(video_uri)\n",
    "\n",
    "    print(f\"✅ Video embedding created successfully with {len(video_embedding_data)} segment(s) from {video['Key']}\")"
   ]
  },
  {
   "cell_type": "markdown",
   "id": "8dca80cc",
   "metadata": {},
   "source": [
    "#### Insert embeddings into OpenSearch index"
   ]
  },
  {
   "cell_type": "code",
   "execution_count": null,
   "id": "60aad509",
   "metadata": {},
   "outputs": [],
   "source": [
    "# Retrieve the list of embedding files in the S3 bucket\n",
    "embedding_files = s3_client.list_objects_v2(Bucket=S3_BUCKET_NAME, Prefix=f\"{S3_EMBEDDINGS_PATH}/{S3_VIDEOS_PATH}\").get(\"Contents\", [])\n",
    "\n",
    "for embedding_file in embedding_files:\n",
    "    embedding_key = embedding_file[\"Key\"]\n",
    "    if not embedding_key.endswith(\"output.json\"):\n",
    "        continue  # Skip non-JSON files\n",
    "\n",
    "    embedding_obj = s3_client.get_object(Bucket=S3_BUCKET_NAME, Key=embedding_key)\n",
    "    content = embedding_obj['Body'].read().decode('utf-8')\n",
    "    embedding_data = json.loads(content).get(\"data\", [])\n",
    "\n",
    "    # Use the index_video_embeddings function to index the embedding data into OpenSearch\n",
    "    num_indexed = index_video_embeddings(os_client, INDEX_NAME, embedding_data, video_id=embedding_key)\n",
    "\n",
    "    print(f\"✅ Indexed {num_indexed} segments from {embedding_key}\")"
   ]
  },
  {
   "cell_type": "markdown",
   "id": "4579de4c",
   "metadata": {},
   "source": [
    "### Part 2d: Querying for multimodal video search"
   ]
  },
  {
   "cell_type": "markdown",
   "id": "28524771",
   "metadata": {},
   "source": [
    "#### Query with text"
   ]
  },
  {
   "cell_type": "code",
   "execution_count": null,
   "id": "8651d7b6",
   "metadata": {},
   "outputs": [],
   "source": [
    "# Text Query Search Function\n",
    "def search_videos_by_text(query_text, top_k=5):\n",
    "    \"\"\"Search for video segments using text queries\"\"\"\n",
    "    \n",
    "    # Generate embedding for the text query\n",
    "    print(f\"Generating embedding for query: '{query_text}'\")\n",
    "    query_embedding_data = create_text_embedding(query_text)\n",
    "    query_embedding = query_embedding_data[0][\"embedding\"]\n",
    "    \n",
    "    # Search OpenSearch index\n",
    "    search_body = {\n",
    "        \"query\": {\n",
    "            \"knn\": {\n",
    "                \"embedding\": {\n",
    "                    \"vector\": query_embedding,\n",
    "                    \"k\": top_k\n",
    "                }\n",
    "            }\n",
    "        },\n",
    "        \"size\": top_k,\n",
    "        \"_source\": [\"start_time\", \"end_time\", \"video_id\", \"segment_id\"]\n",
    "    }\n",
    "    \n",
    "    response = os_client.search(index=INDEX_NAME, body=search_body)\n",
    "    \n",
    "    print(f\"\\n✅ Found {len(response['hits']['hits'])} matching segments:\")\n",
    "    results = []\n",
    "    \n",
    "    for hit in response['hits']['hits']:\n",
    "        result = {\n",
    "            \"score\": hit[\"_score\"],\n",
    "            \"video_id\": hit[\"_source\"][\"video_id\"],\n",
    "            \"segment_id\": hit[\"_source\"][\"segment_id\"],\n",
    "            \"start_time\": hit[\"_source\"][\"start_time\"],\n",
    "            \"end_time\": hit[\"_source\"][\"end_time\"]\n",
    "        }\n",
    "        results.append(result)\n",
    "        \n",
    "        print(f\"  Score: {result['score']:.4f} | Video: {result['video_id']} | \"\n",
    "              f\"Segment: {result['segment_id']} | Time: {result['start_time']:.1f}s - {result['end_time']:.1f}s\")\n",
    "    \n",
    "    return results\n"
   ]
  },
  {
   "cell_type": "code",
   "execution_count": null,
   "id": "33fdbba9",
   "metadata": {},
   "outputs": [],
   "source": [
    "text_query = \"car driving on a road\""
   ]
  },
  {
   "cell_type": "code",
   "execution_count": null,
   "id": "32dfd0a1",
   "metadata": {},
   "outputs": [],
   "source": [
    "# Example text search\n",
    "search_results = search_videos_by_text(text_query, top_k=3)"
   ]
  },
  {
   "cell_type": "markdown",
   "id": "6a624dbd",
   "metadata": {},
   "source": [
    "#### Query with image"
   ]
  },
  {
   "cell_type": "code",
   "execution_count": null,
   "id": "6ae7d77e",
   "metadata": {},
   "outputs": [],
   "source": [
    "# Image Query Search Function\n"
   ]
  },
  {
   "cell_type": "code",
   "execution_count": null,
   "id": "01730b32",
   "metadata": {},
   "outputs": [],
   "source": [
    "image_query = \"\""
   ]
  },
  {
   "cell_type": "code",
   "execution_count": null,
   "id": "8653813f",
   "metadata": {},
   "outputs": [],
   "source": [
    "# Example image search"
   ]
  },
  {
   "cell_type": "markdown",
   "id": "0cdfcc23",
   "metadata": {},
   "source": [
    "## Part 3: Exercises"
   ]
  },
  {
   "cell_type": "markdown",
   "id": "efc2a4ad",
   "metadata": {},
   "source": [
    "### Exercise 1:"
   ]
  },
  {
   "cell_type": "markdown",
   "id": "8959407b",
   "metadata": {},
   "source": []
  }
 ],
 "metadata": {
  "kernelspec": {
   "display_name": "tl",
   "language": "python",
   "name": "python3"
  },
  "language_info": {
   "codemirror_mode": {
    "name": "ipython",
    "version": 3
   },
   "file_extension": ".py",
   "mimetype": "text/x-python",
   "name": "python",
   "nbconvert_exporter": "python",
   "pygments_lexer": "ipython3",
   "version": "3.12.2"
  }
 },
 "nbformat": 4,
 "nbformat_minor": 5
}
